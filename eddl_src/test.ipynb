{
 "cells": [
  {
   "cell_type": "code",
   "execution_count": null,
   "metadata": {},
   "outputs": [],
   "source": [
    "import numpy as np\n",
    "import pandas as pd\n",
    "import random\n",
    "\n",
    "n_samples = 100\n",
    "prob = 0.2\n",
    "pos = int(n_samples * prob)\n",
    "neg = n_samples - pos\n",
    "\n",
    "target = [1] * pos + [0] * neg\n",
    "cat = [\"a\"] * 50 + [\"b\"] * 50\n",
    "random.shuffle(target)\n",
    "random.shuffle(cat)\n",
    "\n",
    "ds = pd.DataFrame()\n",
    "ds[\"target\"] = target\n",
    "ds[\"cat\"] = cat\n",
    "ds[\"f1\"] = np.random.random(size=(n_samples,))\n",
    "ds[\"f2\"] = np.random.random(size=(n_samples,))\n",
    "print(ds.head())\n",
    "\n",
    "print(\"*dataset\")\n",
    "print(ds.target.value_counts() / n_samples)\n",
    "print(ds[[\"target\", \"cat\"]].value_counts() / n_samples)\n",
    "\n",
    "from sklearn.model_selection import train_test_split, StratifiedKFold\n",
    "\n",
    "# with train_test_split\n",
    "training, valid = train_test_split(range(n_samples), \n",
    "                test_size=20, \n",
    "                stratify=ds[[\"target\", \"cat\"]])\n",
    "\n",
    "print(\"---\")\n",
    "print(\"* training\")\n",
    "print(ds.loc[training, [\"target\", \"cat\"]].value_counts() / len(training))  # balanced\n",
    "print(\"* validation\")\n",
    "print(ds.loc[valid, [\"target\", \"cat\"]].value_counts() / len(valid))  # balanced\n",
    "\n",
    "# with stratified k-fold\n",
    "skf = StratifiedKFold(n_splits=5)\n",
    "try:\n",
    "    for train, valid in skf.split(X=range(len(ds)), y=ds[[\"target\", \"cat\"]]):\n",
    "        pass\n",
    "except:\n",
    "    print(\"! does not work\")\n",
    "\n",
    "\n",
    "for train, valid in skf.split(X=range(len(ds)), y=ds.target):\n",
    "    print(\"happily iterating\")"
   ]
  },
  {
   "cell_type": "code",
   "execution_count": null,
   "metadata": {},
   "outputs": [],
   "source": [
    "import numpy as np\n",
    "\n",
    "y= np.array([1, 0, 0], [1, 0, 0], )"
   ]
  },
  {
   "cell_type": "code",
   "execution_count": null,
   "metadata": {},
   "outputs": [],
   "source": []
  }
 ],
 "metadata": {
  "interpreter": {
   "hash": "a57137f93f0d61eae732885aa4fba713e2d48086d00768a4ca093bbaf75cba17"
  },
  "kernelspec": {
   "display_name": "Python 3.8.6 ('eddl')",
   "language": "python",
   "name": "python3"
  },
  "language_info": {
   "codemirror_mode": {
    "name": "ipython",
    "version": 3
   },
   "file_extension": ".py",
   "mimetype": "text/x-python",
   "name": "python",
   "nbconvert_exporter": "python",
   "pygments_lexer": "ipython3",
   "version": "3.8.6"
  },
  "orig_nbformat": 4
 },
 "nbformat": 4,
 "nbformat_minor": 2
}
