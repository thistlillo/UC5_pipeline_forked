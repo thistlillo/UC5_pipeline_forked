{
 "cells": [
  {
   "cell_type": "code",
   "execution_count": null,
   "metadata": {},
   "outputs": [],
   "source": [
    "import pyeddl.eddl as eddl\n",
    "import pyecvl.ecvl as ecvl\n",
    "from pyeddl.tensor import Tensor\n",
    "\n",
    "import pandas as pd\n",
    "import numpy as np\n",
    "from posixpath import join\n",
    "import yaml\n",
    "import os\n",
    "\n",
    "ecvl_ds = \"\"\n",
    "uc5_ds = \"\"\n",
    "\n",
    "# def combine_ds(ecvl_ds, uc)\n",
    "\n"
   ]
  },
  {
   "cell_type": "code",
   "execution_count": null,
   "metadata": {},
   "outputs": [],
   "source": []
  }
 ],
 "metadata": {
  "interpreter": {
   "hash": "f8ac5ee7dbd3222b9a621db727279133c0b9b65990c5851472ddfcb34807bcee"
  },
  "kernelspec": {
   "display_name": "Python 3.8.6 ('eddl')",
   "language": "python",
   "name": "python3"
  },
  "language_info": {
   "name": "python",
   "version": "3.8.6"
  },
  "orig_nbformat": 4
 },
 "nbformat": 4,
 "nbformat_minor": 2
}
