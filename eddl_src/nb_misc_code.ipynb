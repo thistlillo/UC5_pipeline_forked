{
 "cells": [
  {
   "cell_type": "code",
   "execution_count": 1,
   "metadata": {},
   "outputs": [],
   "source": [
    "import pandas as pd\n",
    "import numpy as np\n",
    "from posixpath import join\n",
    "import yaml\n",
    "from collections import defaultdict"
   ]
  },
  {
   "cell_type": "code",
   "execution_count": 2,
   "metadata": {},
   "outputs": [],
   "source": [
    "fld = \"/mnt/datasets/uc5/UC5_pipeline_forked/experiments_eddl/wp6last\"\n",
    "filename = join( fld, \"cnn_ds.yml\")\n",
    "\n",
    "with open(filename) as yaml_file:\n",
    "    yaml_contents = yaml.load(yaml_file, Loader=yaml.SafeLoader)\n",
    "yaml_df = pd.json_normalize(yaml_contents)"
   ]
  },
  {
   "cell_type": "code",
   "execution_count": 3,
   "metadata": {},
   "outputs": [
    {
     "data": {
      "text/html": [
       "<div>\n",
       "<style scoped>\n",
       "    .dataframe tbody tr th:only-of-type {\n",
       "        vertical-align: middle;\n",
       "    }\n",
       "\n",
       "    .dataframe tbody tr th {\n",
       "        vertical-align: top;\n",
       "    }\n",
       "\n",
       "    .dataframe thead th {\n",
       "        text-align: right;\n",
       "    }\n",
       "</style>\n",
       "<table border=\"1\" class=\"dataframe\">\n",
       "  <thead>\n",
       "    <tr style=\"text-align: right;\">\n",
       "      <th></th>\n",
       "      <th>classes</th>\n",
       "      <th>description</th>\n",
       "      <th>images</th>\n",
       "      <th>name</th>\n",
       "      <th>split.test</th>\n",
       "      <th>split.training</th>\n",
       "      <th>split.validation</th>\n",
       "    </tr>\n",
       "  </thead>\n",
       "  <tbody>\n",
       "    <tr>\n",
       "      <th>0</th>\n",
       "      <td>[0, 1, 2, 3, 4, 5, 6, 7, 8, 9, 10, 11, 12, 13,...</td>\n",
       "      <td>with normal</td>\n",
       "      <td>[{'label': [15], 'location': '/mnt/datasets/uc...</td>\n",
       "      <td>with normal</td>\n",
       "      <td>[5662, 5663, 5664, 5665, 5666, 5667, 5668, 566...</td>\n",
       "      <td>[0, 1, 2, 3, 4, 5, 6, 7, 8, 9, 10, 11, 12, 13,...</td>\n",
       "      <td>[4954, 4955, 4956, 4957, 4958, 4959, 4960, 496...</td>\n",
       "    </tr>\n",
       "  </tbody>\n",
       "</table>\n",
       "</div>"
      ],
      "text/plain": [
       "                                             classes  description  \\\n",
       "0  [0, 1, 2, 3, 4, 5, 6, 7, 8, 9, 10, 11, 12, 13,...  with normal   \n",
       "\n",
       "                                              images         name  \\\n",
       "0  [{'label': [15], 'location': '/mnt/datasets/uc...  with normal   \n",
       "\n",
       "                                          split.test  \\\n",
       "0  [5662, 5663, 5664, 5665, 5666, 5667, 5668, 566...   \n",
       "\n",
       "                                      split.training  \\\n",
       "0  [0, 1, 2, 3, 4, 5, 6, 7, 8, 9, 10, 11, 12, 13,...   \n",
       "\n",
       "                                    split.validation  \n",
       "0  [4954, 4955, 4956, 4957, 4958, 4959, 4960, 496...  "
      ]
     },
     "metadata": {},
     "output_type": "display_data"
    },
    {
     "name": "stdout",
     "output_type": "stream",
     "text": [
      "7075\n",
      "|labels| = 25\n",
      "15: 2656\n",
      "23: 150\n",
      "6: 732\n",
      "2: 607\n",
      "22: 368\n",
      "13: 709\n",
      "1: 116\n",
      "14: 148\n",
      "16: 769\n",
      "3: 413\n",
      "12: 164\n",
      "4: 457\n",
      "7: 143\n",
      "24: 127\n",
      "20: 82\n",
      "18: 261\n",
      "0: 517\n",
      "19: 153\n",
      "8: 161\n",
      "21: 174\n",
      "10: 156\n",
      "9: 253\n",
      "17: 96\n",
      "11: 68\n",
      "5: 126\n"
     ]
    }
   ],
   "source": [
    "display(yaml_df.head())\n",
    "images = yaml_df.images.tolist()[0]\n",
    "print(len(images))\n",
    "labels = defaultdict(int)\n",
    "\n",
    "for i in images:\n",
    "    ll = i[\"label\"]\n",
    "    for l in ll:\n",
    "        labels[l] = labels[l] + 1\n",
    "\n",
    "print(\"|labels| =\", len(labels))\n",
    "for l,c in labels.items():\n",
    "    print(f\"{l}: {c}\")"
   ]
  },
  {
   "cell_type": "code",
   "execution_count": null,
   "metadata": {},
   "outputs": [],
   "source": []
  }
 ],
 "metadata": {
  "interpreter": {
   "hash": "f8ac5ee7dbd3222b9a621db727279133c0b9b65990c5851472ddfcb34807bcee"
  },
  "kernelspec": {
   "display_name": "Python 3.8.6 ('eddl')",
   "language": "python",
   "name": "python3"
  },
  "language_info": {
   "codemirror_mode": {
    "name": "ipython",
    "version": 3
   },
   "file_extension": ".py",
   "mimetype": "text/x-python",
   "name": "python",
   "nbconvert_exporter": "python",
   "pygments_lexer": "ipython3",
   "version": "3.8.6"
  },
  "orig_nbformat": 4
 },
 "nbformat": 4,
 "nbformat_minor": 2
}
