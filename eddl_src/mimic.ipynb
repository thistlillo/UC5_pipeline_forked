{
 "cells": [
  {
   "cell_type": "code",
   "execution_count": null,
   "metadata": {},
   "outputs": [],
   "source": [
    "import pandas as pd\n",
    "import numpy as np\n",
    "import os\n",
    "from posixpath import join\n",
    "from IPython.display import display\n",
    "from IPython.display import Image\n",
    "\n",
    "jpg_fld = \"/mnt/datasets/mimic-cxr/mimic-cxr-jpg/physionet.org/files/mimic-cxr-jpg/2.0.0\"\n",
    "dcm_fld = \"/mnt/datasets/mimic-cxr/mimic-cxr-dcm/physionet.org/files/mimic-cxr/2.0.0\""
   ]
  },
  {
   "cell_type": "markdown",
   "metadata": {},
   "source": [
    "mimic has two versions:\n",
    "- with dcm files\n",
    "- with png files\n",
    "\n",
    "metadata are split between the two versions. Specifically:\n",
    "- record list, with path to image is in the dcm ver.\n",
    "- metadata, with, for example, view position in the png ver.\n"
   ]
  },
  {
   "cell_type": "code",
   "execution_count": null,
   "metadata": {},
   "outputs": [],
   "source": [
    "# dcm: read all files\n",
    "ds = pd.read_csv( join(dcm_fld, \"cxr-record-list.csv\")).set_index([\"subject_id\", \"study_id\"])\n",
    "print(\"record list - from dcm, shape:\", ds.shape)\n",
    "display(ds)\n",
    "\n",
    "# jpg\n",
    "metadata = pd.read_csv( join(jpg_fld, \"mimic-cxr-2.0.0-metadata.csv\") ).set_index([\"subject_id\", \"study_id\"])\n",
    "print(\"metadata - from jpg, shape:\", metadata.shape)\n",
    "display(metadata)\n",
    "\n",
    "\n",
    "# jpg\n"
   ]
  },
  {
   "cell_type": "markdown",
   "metadata": {},
   "source": [
    "display some images"
   ]
  },
  {
   "cell_type": "code",
   "execution_count": null,
   "metadata": {},
   "outputs": [],
   "source": [
    "vp = metadata.ViewPosition\n",
    "print(vp.value_counts())\n",
    "ds[\"ViewPosition\"] = vp\n",
    "\n",
    "display(ds)\n",
    "\n",
    "# print(\"PA\")\n",
    "# pa = ds.loc[ds.ViewPosition == \"PA\", [\"path\"]]\n",
    "# fns = pa.iloc[[0,1,2]].path\n",
    "# for fn in fns:\n",
    "#     fn = fn.replace(\".dcm\", \".jpg\")\n",
    "#     display(Image( join(jpg_fld, fn), width=224, height=224))\n",
    "\n",
    "# print(\"AP\")\n",
    "# pa = ds.loc[ds.ViewPosition == \"AP\", [\"path\"]]\n",
    "# fns = pa.iloc[[0,1,2]].path\n",
    "# for fn in fns:\n",
    "#     fn = fn.replace(\".dcm\", \".jpg\")\n",
    "#     display(Image( join(jpg_fld, fn), width=224, height=224))\n",
    "\n",
    "# print(\"LATERAL\")\n",
    "# pa = ds.loc[ds.ViewPosition == \"LATERAL\", [\"path\"]]\n",
    "# fns = pa.iloc[[0,1,2]].path\n",
    "# for fn in fns:\n",
    "#     fn = fn.replace(\".dcm\", \".jpg\")\n",
    "#     display(Image( join(jpg_fld, fn), width=224, height=224))\n",
    "\n",
    "# print(\"XTABLE LATERAL\")\n",
    "# pa = ds.loc[ds.ViewPosition == \"XTABLE LATERAL\", [\"path\"]]\n",
    "# print(len(pa))\n",
    "# fns = pa.iloc[[0,1]].path\n",
    "# for fn in fns:\n",
    "#     fn = fn.replace(\".dcm\", \".jpg\")\n",
    "#     display(Image( join(jpg_fld, fn), width=224, height=224))\n",
    "\n",
    "print(\"LL\")\n",
    "pa = ds.loc[ds.ViewPosition == \"LL\", [\"path\"]]\n",
    "print(len(pa))\n",
    "fns = pa.iloc[[10,20]].path\n",
    "for fn in fns:\n",
    "    fn = fn.replace(\".dcm\", \".jpg\")\n",
    "    display(Image( join(jpg_fld, fn), width=224, height=224))\n",
    "\n"
   ]
  },
  {
   "cell_type": "markdown",
   "metadata": {},
   "source": [
    "- add column with labels\n",
    "- add column with text"
   ]
  },
  {
   "cell_type": "markdown",
   "metadata": {},
   "source": [
    "Read labels from chexpert/negbio in jpg folder\n",
    "for each label\n",
    "- +1 means positive mention\n",
    "- -1 means negative mention\n",
    "- 0 means uncertainty in the mention\n"
   ]
  },
  {
   "cell_type": "code",
   "execution_count": null,
   "metadata": {},
   "outputs": [],
   "source": [
    "# jpg\n",
    "chexpert = pd.read_csv( join(jpg_fld, \"mimic-cxr-2.0.0-chexpert.csv\"), na_filter=False).set_index([\"subject_id\", \"study_id\"])\n",
    "print(\"chexpert - from jpg, shape:\", chexpert.shape)\n",
    "display(chexpert)\n",
    "\n",
    "columns = chexpert.columns\n",
    "print(f\"n labels: {len(columns)}\")"
   ]
  },
  {
   "cell_type": "markdown",
   "metadata": {},
   "source": [
    "There are several strategies for managing the uncertain label (zero), as suggested by the authors themselves:\n",
    "- "
   ]
  }
 ],
 "metadata": {
  "interpreter": {
   "hash": "f8ac5ee7dbd3222b9a621db727279133c0b9b65990c5851472ddfcb34807bcee"
  },
  "kernelspec": {
   "display_name": "Python 3.8.6 ('eddl')",
   "language": "python",
   "name": "python3"
  },
  "language_info": {
   "codemirror_mode": {
    "name": "ipython",
    "version": 3
   },
   "file_extension": ".py",
   "mimetype": "text/x-python",
   "name": "python",
   "nbconvert_exporter": "python",
   "pygments_lexer": "ipython3",
   "version": "3.8.6"
  },
  "orig_nbformat": 4
 },
 "nbformat": 4,
 "nbformat_minor": 2
}
