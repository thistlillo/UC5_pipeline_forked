{
 "cells": [
  {
   "cell_type": "code",
   "execution_count": 13,
   "metadata": {},
   "outputs": [],
   "source": [
    "import pandas as pd\n",
    "import numpy as np\n",
    "import pyecvl.ecvl as ecvl\n",
    "import pyeddl.eddl as eddl\n",
    "\n",
    "fn = \"/mnt/datasets/uc5/UC5_pipeline_forked/experiments_eddl/eddl_integration_999/cnn_ds.yml\"\n",
    "# fn = \"/mnt/datasets/uc5/UC5_pipeline_forked/experiments_eddl/eddl_integration_999/ecvl_dataset_img.yml\"\n",
    "img_size = 224\n",
    "mean = [0.48197903, 0.48197903, 0.48197903]\n",
    "std = [0.26261734, 0.26261734, 0.26261734]\n",
    "\n",
    "# mean = np.array([0.48197903, 0.48197903, 0.48197903]) * 255\n",
    "# std = np.array([0.26261734, 0.26261734, 0.26261734]) * 255\n",
    "\n",
    "\n",
    "train_augs = lambda x: ecvl.SequentialAugmentationContainer([\n",
    "                ecvl.AugResizeDim([300, 300]),\n",
    "                ecvl.AugRandomCrop([x, x]),  # XXX should be parametric, for resnet 18\n",
    "                ecvl.AugToFloat32(divisor=255.0),\n",
    "                ecvl.AugNormalize(mean, std),\n",
    "            ])\n",
    "\n",
    "test_augs =  lambda x: ecvl.SequentialAugmentationContainer([\n",
    "                ecvl.AugResizeDim([300, 300]),\n",
    "                ecvl.AugCenterCrop([x, x]),\n",
    "                # ecvl.AugRandomCrop([size, size]),  # XXX should be parametric, for resnet 18\n",
    "                ecvl.AugToFloat32(divisor=255.0),\n",
    "                ecvl.AugNormalize(mean, std),\n",
    "            ])\n",
    "augs = ecvl.DatasetAugmentations(augs=[train_augs(img_size), test_augs(img_size), test_augs(img_size)])\n",
    "ds = ecvl.DLDataset(fn, batch_size=2, augs=augs)"
   ]
  },
  {
   "cell_type": "code",
   "execution_count": 14,
   "metadata": {},
   "outputs": [
    {
     "name": "stdout",
     "output_type": "stream",
     "text": [
      "X [2, 3, 224, 224]\n",
      "Y [2, 36]\n"
     ]
    }
   ],
   "source": [
    "n_batches = ds.GetNumBatches()\n",
    "ds.ResetBatch()\n",
    "ds.Start()\n",
    "_, X, Y = ds.GetBatch()\n",
    "print(\"X\", X.shape)\n",
    "print(\"Y\", Y.shape)\n",
    "ds.Stop()"
   ]
  },
  {
   "cell_type": "code",
   "execution_count": null,
   "metadata": {},
   "outputs": [],
   "source": []
  },
  {
   "cell_type": "code",
   "execution_count": null,
   "metadata": {},
   "outputs": [],
   "source": []
  }
 ],
 "metadata": {
  "interpreter": {
   "hash": "f8ac5ee7dbd3222b9a621db727279133c0b9b65990c5851472ddfcb34807bcee"
  },
  "kernelspec": {
   "display_name": "Python 3.8.6 ('eddl')",
   "language": "python",
   "name": "python3"
  },
  "language_info": {
   "codemirror_mode": {
    "name": "ipython",
    "version": 3
   },
   "file_extension": ".py",
   "mimetype": "text/x-python",
   "name": "python",
   "nbconvert_exporter": "python",
   "pygments_lexer": "ipython3",
   "version": "3.8.6"
  },
  "orig_nbformat": 4
 },
 "nbformat": 4,
 "nbformat_minor": 2
}
