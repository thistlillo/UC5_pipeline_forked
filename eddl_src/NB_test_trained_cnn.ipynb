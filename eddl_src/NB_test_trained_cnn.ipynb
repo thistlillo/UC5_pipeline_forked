{
 "cells": [
  {
   "cell_type": "markdown",
   "metadata": {},
   "source": [
    "<font color=\"yellow\">\n",
    "\n",
    "### TEST CNN\n",
    "Use this notebook for testing a trained cnn on a (possibly different) dataset.\n",
    "\n",
    "Example: test a cnn trained on normal-vs-rest MIMIC dataset on the IU-chest dataset\n",
    "\n",
    "No assumptions made on the classification task, whether binary, multi-class, multi-class and multi-label.\n",
    "Task-specific code must be implemented explicitly.\n",
    "</font>"
   ]
  },
  {
   "cell_type": "code",
   "execution_count": null,
   "metadata": {},
   "outputs": [],
   "source": [
    "# imports - environment is eddl\n",
    "import pyeddl.eddl as eddl\n"
   ]
  },
  {
   "cell_type": "markdown",
   "metadata": {},
   "source": [
    "### 1\n",
    "TRAINED CNN: normal-vs-rest on MIMIC\n",
    "tested on IU-chest"
   ]
  },
  {
   "cell_type": "code",
   "execution_count": null,
   "metadata": {},
   "outputs": [],
   "source": [
    "cnn_path = \"\"\n",
    "dataset_path = \"\"\n"
   ]
  },
  {
   "cell_type": "markdown",
   "metadata": {},
   "source": []
  }
 ],
 "metadata": {
  "interpreter": {
   "hash": "f8ac5ee7dbd3222b9a621db727279133c0b9b65990c5851472ddfcb34807bcee"
  },
  "kernelspec": {
   "display_name": "Python 3.8.6 ('eddl')",
   "language": "python",
   "name": "python3"
  },
  "language_info": {
   "name": "python",
   "version": "3.8.6"
  },
  "orig_nbformat": 4
 },
 "nbformat": 4,
 "nbformat_minor": 2
}
