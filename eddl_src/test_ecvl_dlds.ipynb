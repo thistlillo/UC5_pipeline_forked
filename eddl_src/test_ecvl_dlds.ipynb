{
 "cells": [
  {
   "cell_type": "code",
   "execution_count": null,
   "metadata": {},
   "outputs": [],
   "source": [
    "import pyeddl.eddl as eddl\n",
    "import pyecvl.ecvl as ecvl\n",
    "from pyeddl.tensor import Tensor\n"
   ]
  },
  {
   "cell_type": "code",
   "execution_count": null,
   "metadata": {},
   "outputs": [],
   "source": [
    "filename = \"/mnt/datasets/uc5/UC5_pipeline_forked/experiments_eddl/chestxray_normal/fold_0/dataset.yml\"\n",
    "\n",
    "train_augs = ecvl.SequentialAugmentationContainer([\n",
    "        ecvl.AugResizeDim([300, 300]),\n",
    "        ecvl.AugRotate([-5,5]),\n",
    "        ecvl.AugToFloat32(divisor=255.0),\n",
    "        ecvl.AugNormalize(mean, std),\n",
    "        ecvl.AugRandomCrop([224, 224])\n",
    "    ])\n",
    "\n",
    "test_augs =  lambda x: ecvl.SequentialAugmentationContainer([\n",
    "                ecvl.AugResizeDim([300, 300]),\n",
    "                # ecvl.AugRandomCrop([size, size]),  # XXX should be parametric, for resnet 18\n",
    "                ecvl.AugToFloat32(divisor=255.0),\n",
    "                ecvl.AugNormalize(mean, std),\n",
    "                ecvl.AugCenterCrop(224, 224)\n",
    "            ])\n",
    "\n",
    "augs = ecvl.DatasetAugmentations(augs=[train_augs, test_augs, test_augs])\n",
    "drop_last = {\"training\": True, \"validation\": (gpu and nnz(gpu)>1), \"test\": (gpu and nnz(gpu)>1)}\n",
    "\n",
    "dataset = ecvl.DLDataset(filename, batch_size=32, augs=augs, \n",
    "            ctype=ecvl.ColorType.RGB, ctype_gt=ecvl.ColorType.GRAY, \n",
    "            num_workers=16, queue_ratio_size= 2 * 16, drop_last=drop_last)"
   ]
  }
 ],
 "metadata": {
  "language_info": {
   "name": "python"
  },
  "orig_nbformat": 4
 },
 "nbformat": 4,
 "nbformat_minor": 2
}
