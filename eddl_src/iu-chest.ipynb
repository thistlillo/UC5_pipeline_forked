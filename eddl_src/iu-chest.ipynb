{
 "cells": [
  {
   "cell_type": "code",
   "execution_count": null,
   "metadata": {},
   "outputs": [],
   "source": [
    "import pandas as pd\n",
    "from posixpath import join\n",
    "import numpy as np\n",
    "import random\n",
    "from numpy import count_nonzero as nnz\n",
    "from collections import defaultdict\n",
    "from IPython.display import display\n",
    "from IPython.display import Image\n",
    " \n",
    "# note: ds_home is the base folder for the images\n",
    "ds_home = \"/mnt/datasets/uc5/std-dataset/image\"\n",
    "\n",
    "# some preprocessed files\n",
    "base_path = \"/mnt/datasets/uc5/UC5_pipeline_forked/experiments_eddl/mnt/datasets/uc5/UC5_pipeline_forked/experiments_eddl/eddl_ext_CNN_20tags\"\n",
    "# raw reports processed\n",
    "ds = pd.read_csv( \"/mnt/datasets/uc5/UC5_pipeline_forked/experiments_eddl/reports_raw.tsv\", sep=\"\\t\", na_filter=False )\n"
   ]
  },
  {
   "cell_type": "code",
   "execution_count": null,
   "metadata": {},
   "outputs": [],
   "source": [
    "# select normal vs non-normal \n"
   ]
  },
  {
   "cell_type": "code",
   "execution_count": null,
   "metadata": {},
   "outputs": [],
   "source": [
    "n_images = 2\n",
    "sds = ds.loc[ds.n_images == n_images, [\"id\", \"image_filename\"]].set_index(\"id\")\n",
    "print(f\"subset with exactly {n_images} images: {sds.shape}\")\n",
    "display(sds)\n",
    "\n",
    "# select n_samples random images\n",
    "n_samples = 3\n",
    "idx = random.sample(list(sds.index.values), n_samples)\n",
    "# idx = [1170,42,2177]\n",
    "\n",
    "for row in sds.loc[idx].itertuples():\n",
    "    print(f\"*** {row[0]} ***\")\n",
    "    filenames = sorted([join(ds_home, fn) for fn in row.image_filename.split(\";\")])\n",
    "    # ipyplot.plot_images(filenames, img_width=100)\n",
    "    for i, fn in enumerate(filenames):\n",
    "        print(f\"{i}/{len(filenames)}\")\n",
    "        display(Image(fn, width=224, height=224))\n",
    "\n"
   ]
  },
  {
   "cell_type": "markdown",
   "metadata": {},
   "source": [
    "inspect some random samples"
   ]
  },
  {
   "cell_type": "code",
   "execution_count": null,
   "metadata": {},
   "outputs": [],
   "source": [
    "display(ds.loc[:, [\"id\", \"major_mesh\", \"image_filename\", \"n_images\"]])  # these are the columns used in this notebook"
   ]
  },
  {
   "cell_type": "markdown",
   "metadata": {},
   "source": [
    "- when there is a single image, it can be either FRONTAL or LATERAL;\n",
    "- when a report has exactly two images, the first one corresponds to a FRONTAL view and the secondo one to a LATERAL view. \n",
    "- When a report is associate to more than two images, we cannot say anything about the views of the images."
   ]
  },
  {
   "cell_type": "code",
   "execution_count": null,
   "metadata": {},
   "outputs": [],
   "source": [
    "# prepare dataset\n",
    "sub = ds.loc[ds.n_images == 2]\n",
    "print(sub.shape)\n",
    "frontal = []\n",
    "lateral = []\n",
    "\n",
    "def separate_images(filenames):\n",
    "    f = filenames.split(\";\")\n",
    "    assert len(f) == 2\n",
    "    frontal.append(f[0])\n",
    "    lateral.append(f[1])\n",
    "\n",
    "for row in sub.itertuples():\n",
    "    separate_images(row.image_filename)\n",
    "#subset.image_filename.apply(lambda filenames: separate_images(filenames))\n",
    "\n",
    "print(f\"frontal: {len(frontal)}\")\n",
    "print(f\"lateral: {len(lateral)}\")\n",
    "\n"
   ]
  },
  {
   "cell_type": "code",
   "execution_count": null,
   "metadata": {},
   "outputs": [],
   "source": [
    "# check\n",
    "print('frontal')\n",
    "fn = join(ds_home, random.sample(frontal, 1)[0])\n",
    "display(Image(fn, width=224, height=224))\n",
    "\n",
    "print('lateral')\n",
    "fn = join(ds_home, random.sample(lateral, 1)[0])\n",
    "display(Image(fn, width=224, height=224))"
   ]
  },
  {
   "cell_type": "code",
   "execution_count": null,
   "metadata": {},
   "outputs": [],
   "source": [
    "def prepare_ecvl_dlds(train, valid, test, y_train, y_valid, y_test):\n",
    "     d = {\n",
    "        \"name\"        : \"ECVL dataset for UC5\",\n",
    "        \"description\" : description,\n",
    "        \"classes\"     : [], \n",
    "        \"images\"      : [],\n",
    "        \"split\"       : dict(training = list(range(n_train)), \n",
    "                            validation = list(range(n_train, n_train + n_valid)), \n",
    "                            test=list(range(n_train + n_valid, len(ds))))\n",
    "    }\n",
    "\n",
    "\n",
    "import random\n",
    "from sklearn.model_selection import train_test_split, StratifiedKFold\n",
    "\n",
    "frontal_lab = [1, 0]\n",
    "lateral_lab = [0, 1]\n",
    "\n",
    "X = frontal + lateral\n",
    "y = [1] * len(frontal) + [2] * len(lateral)\n",
    "\n",
    "shuffle_seed = 11\n",
    "train_p = 0.7\n",
    "valid_p = 0.1\n",
    "test_p = 1 - train_p - valid_p\n",
    "print(f\"X={len(X)}, Y={len(y)}\")\n",
    "print(f\"expected train={len(X)*train_p}, val={len(X)*valid_p}, test={len(X)*test_p}\")\n",
    "\n",
    "X = np.array(frontal + lateral)\n",
    "y = np.array([1] * len(frontal) + [0] * len(lateral))\n",
    "assert X.shape[0] == 2 * sub.shape[0]\n",
    "assert y.shape[0] == 2 * sub.shape[0]\n",
    "skf= StratifiedKFold(n_splits=5, shuffle=True, random_state=shuffle_seed)\n",
    "for i, (others, test) in enumerate(skf.split(X, y)):\n",
    "    print(15 * \"=\" + f\" {i+1}/{skf.n_splits}\")\n",
    "    print(f\"train/test: label distribution, others -  {np.bincount(y[others])}   |   test -  {np.bincount(y[test])}\")\n",
    "    test_p = 1 / skf.n_splits\n",
    "    train, valid = train_test_split(others, test_size=valid_p/(1-test_p), shuffle=True, stratify=y[others], random_state=shuffle_seed+i)\n",
    "    print(f\"train/val:  label distribution, train -  {np.bincount(y[train])}   |   validation -  {np.bincount(y[valid])}\")\n",
    "    assert len(train) + len(valid) == len(others)\n",
    "    #prepare_ecvl_dlds(X_train, X_valid, X[test], y_train, y_valid, y[test])\n"
   ]
  },
  {
   "cell_type": "code",
   "execution_count": null,
   "metadata": {},
   "outputs": [],
   "source": [
    "\n",
    "\n"
   ]
  },
  {
   "cell_type": "code",
   "execution_count": null,
   "metadata": {},
   "outputs": [],
   "source": []
  }
 ],
 "metadata": {
  "interpreter": {
   "hash": "f8ac5ee7dbd3222b9a621db727279133c0b9b65990c5851472ddfcb34807bcee"
  },
  "kernelspec": {
   "display_name": "Python 3.8.6 ('eddl')",
   "language": "python",
   "name": "python3"
  },
  "language_info": {
   "codemirror_mode": {
    "name": "ipython",
    "version": 3
   },
   "file_extension": ".py",
   "mimetype": "text/x-python",
   "name": "python",
   "nbconvert_exporter": "python",
   "pygments_lexer": "ipython3",
   "version": "3.8.6"
  },
  "orig_nbformat": 4
 },
 "nbformat": 4,
 "nbformat_minor": 2
}
