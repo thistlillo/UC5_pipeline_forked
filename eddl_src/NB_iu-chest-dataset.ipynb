{
 "cells": [
  {
   "cell_type": "code",
   "execution_count": null,
   "metadata": {},
   "outputs": [],
   "source": [
    "import pandas as pd\n",
    "from posixpath import join\n",
    "import numpy as np\n",
    "import random\n",
    "from numpy import count_nonzero as nnz\n",
    "from collections import defaultdict\n",
    "from IPython.display import display\n",
    "from IPython.display import Image\n",
    " \n",
    "# note: ds_home is the base folder for the images\n",
    "ds_home = \"/mnt/datasets/uc5/std-dataset/image\"\n",
    "\n",
    "# some preprocessed files\n",
    "base_path = \"/mnt/datasets/uc5/UC5_pipeline_forked/experiments_eddl/mnt/datasets/uc5/UC5_pipeline_forked/experiments_eddl/eddl_ext_CNN_20tags\"\n",
    "# raw reports processed\n",
    "ds = pd.read_csv( \"/mnt/datasets/uc5/UC5_pipeline_forked/experiments_eddl/reports_raw.tsv\", sep=\"\\t\", na_filter=False ).set_index(\"id\")\n",
    "img_ds = pd.read_csv(\"/mnt/datasets/uc5/std-dataset/img_ds_no_text.tsv\", sep=\"\\t\", na_filter=False)\n"
   ]
  },
  {
   "cell_type": "code",
   "execution_count": null,
   "metadata": {},
   "outputs": [],
   "source": []
  },
  {
   "cell_type": "code",
   "execution_count": null,
   "metadata": {},
   "outputs": [],
   "source": [
    "# frontal vs lateral\n",
    "sel = ds.loc[ds.n_images == 2]\n",
    "print(f\"selection:\", sel.shape)\n",
    "frontal = []\n",
    "lateral = []\n",
    "def split_images(filenames):\n",
    "    f = filenames.split(\";\")\n",
    "    assert len(f) == 2\n",
    "    frontal.append(f[0])\n",
    "    lateral.append(f[1])\n",
    "\n",
    "for row in sel.itertuples():\n",
    "    split_images(row.image_filename)\n",
    "filenames = frontal + lateral\n",
    "labels = [1] * len(frontal) + [0] * len(lateral)\n",
    "\n",
    "df2 = pd.DataFrame()\n",
    "df2[\"image_filename\"] = filenames\n",
    "df2[\"view\"] = labels\n",
    "df2.set_index(\"image_filename\", inplace=True)\n",
    "display(df2)\n",
    "\n",
    "img_ds[\"view\"] =  np.nan\n",
    "img_ds[\"view\"] = df2[\"view\"]\n",
    "display(img_ds.loc[img_ds.view.notna()])\n",
    "\n",
    "# there are 6416 \n",
    "print(len(filenames))\n"
   ]
  },
  {
   "cell_type": "code",
   "execution_count": null,
   "metadata": {},
   "outputs": [],
   "source": [
    "# 3 train-val-test splits\n",
    "from sklearn.model_selection import train_test_split\n",
    "\n",
    "skf= StratifiedKFold(n_splits=n_splits, shuffle=True, random_state=shuffle_seed)"
   ]
  },
  {
   "cell_type": "code",
   "execution_count": null,
   "metadata": {},
   "outputs": [],
   "source": [
    "# normal vs not-normal\n",
    "\n",
    "groups = img_ds[[\"image_filename\", \"report\"]].groupby(\"report\").count()  # .filter(lambda x: len(x)==2).c\n",
    "display(groups)\n",
    "print(groups.value_counts())\n",
    "img_ds[\"report_count\"] = 0\n",
    "img_ds2 = img_ds.set_index(\"report\")\n",
    "img_ds2[\"report_count\"] = groups\n",
    "#img_ds2 = img_ds2.set_index(\"image_filename\")\n",
    "display(img_ds2[img_ds2.report_count>=4])\n",
    "img_ds2 = img_ds2.reset_index().set_index(\"image_filename\")\n",
    "display(img_ds2)\n",
    "#print(img_ds2[\"report\"])\n",
    "# normal vs not-normal\n",
    "\n"
   ]
  },
  {
   "cell_type": "code",
   "execution_count": null,
   "metadata": {},
   "outputs": [],
   "source": [
    "data = [[\"file1\", \"tag1\"],\n",
    "        [\"file2\", \"tag1\"],\n",
    "        [\"file3\", \"tag2\"],\n",
    "        [\"file4\", \"tag3\"],\n",
    "        [\"file5\", \"tag3\"],\n",
    "        [\"file6\", \"tag4\"],\n",
    "        [\"file7\", \"tag4\"]]\n",
    "    \n",
    "df = pd.DataFrame(data=data, columns=[\"file\", \"tag\"]).set_index(\"file\")\n",
    "g = df.groupby(\"tag\").count()\n",
    "display(g)"
   ]
  },
  {
   "cell_type": "code",
   "execution_count": null,
   "metadata": {},
   "outputs": [],
   "source": [
    "a = [\"f\", \"g\", \"l\"]\n",
    "\n",
    "c = [\"f\", \"g\"]\n",
    "b = [1,1]\n",
    "\n",
    "df1 = pd.DataFrame(data=a, columns=[\"file\"]).set_index(\"file\")\n",
    "df2 = pd.DataFrame()\n",
    "df2[\"file\"] = c\n",
    "df2[\"value\"] = b\n",
    "df2.set_index(\"file\", inplace=True)\n",
    "\n",
    "display(df1)\n",
    "display(df2)\n",
    "\n",
    "df1[\"value\"] = np.nan\n",
    "display(df1)\n",
    "\n",
    "df1[\"value\"] = df2.value\n",
    "display(df1)"
   ]
  },
  {
   "cell_type": "code",
   "execution_count": null,
   "metadata": {},
   "outputs": [],
   "source": []
  }
 ],
 "metadata": {
  "interpreter": {
   "hash": "a57137f93f0d61eae732885aa4fba713e2d48086d00768a4ca093bbaf75cba17"
  },
  "kernelspec": {
   "display_name": "Python 3.8.6 ('eddl')",
   "language": "python",
   "name": "python3"
  },
  "language_info": {
   "codemirror_mode": {
    "name": "ipython",
    "version": 3
   },
   "file_extension": ".py",
   "mimetype": "text/x-python",
   "name": "python",
   "nbconvert_exporter": "python",
   "pygments_lexer": "ipython3",
   "version": "3.8.6"
  },
  "orig_nbformat": 4
 },
 "nbformat": 4,
 "nbformat_minor": 2
}
